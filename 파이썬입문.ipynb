{
  "nbformat": 4,
  "nbformat_minor": 0,
  "metadata": {
    "colab": {
      "name": "파이썬입문.ipynb",
      "provenance": [],
      "authorship_tag": "ABX9TyNLoJb8g9eyWYhxRitFs0ZP"
    },
    "kernelspec": {
      "name": "python3",
      "display_name": "Python 3"
    }
  },
  "cells": [
    {
      "cell_type": "code",
      "metadata": {
        "colab": {
          "base_uri": "https://localhost:8080/"
        },
        "id": "vcMzQ7ydHJPV",
        "outputId": "b21ffecc-a141-44d0-de2a-f8c497ea99df"
      },
      "source": [
        "print('hello')"
      ],
      "execution_count": null,
      "outputs": [
        {
          "output_type": "stream",
          "text": [
            "hello\n"
          ],
          "name": "stdout"
        }
      ]
    },
    {
      "cell_type": "code",
      "metadata": {
        "colab": {
          "base_uri": "https://localhost:8080/"
        },
        "id": "Xuq4DhfRHniV",
        "outputId": "2fb775ca-a161-4253-cfda-c688dd378cd6"
      },
      "source": [
        "print('안녕하세요.')\r\n",
        "print('저는 홍길동입니다.')"
      ],
      "execution_count": null,
      "outputs": [
        {
          "output_type": "stream",
          "text": [
            "안녕하세요.\n",
            "저는 홍길동입니다.\n"
          ],
          "name": "stdout"
        }
      ]
    },
    {
      "cell_type": "code",
      "metadata": {
        "id": "ofqZwKzEHlas"
      },
      "source": [
        "# 은 설명을 씀, 컨트롤+/, comment, 주석\r\n",
        "# 입력: 데이터를 가지고 와야감.\r\n",
        "# 처리: 적절한 처리\r\n",
        "# 출력: 처리한 결과를 내보는 일(모니터, 파일, db저장, 네트워크 전송)"
      ],
      "execution_count": null,
      "outputs": []
    },
    {
      "cell_type": "code",
      "metadata": {
        "colab": {
          "base_uri": "https://localhost:8080/"
        },
        "id": "QlHrZDmcJTWN",
        "outputId": "8db8b754-173f-48a8-ae57-e71d334d2340"
      },
      "source": [
        "name = input('이름을 입력하세요 >> ') #간단한 처리(기호를 씀): 연산 => 연산자\r\n",
        "# = : 대입연산자"
      ],
      "execution_count": null,
      "outputs": [
        {
          "output_type": "stream",
          "text": [
            "이름을 입력하세요 >> 홍길동\n"
          ],
          "name": "stdout"
        }
      ]
    },
    {
      "cell_type": "code",
      "metadata": {
        "colab": {
          "base_uri": "https://localhost:8080/"
        },
        "id": "A1mhlvLZJeQU",
        "outputId": "71d22731-6979-490e-d9d7-0d247e980c24"
      },
      "source": [
        "print(name)"
      ],
      "execution_count": null,
      "outputs": [
        {
          "output_type": "stream",
          "text": [
            "홍길동\n"
          ],
          "name": "stdout"
        }
      ]
    },
    {
      "cell_type": "code",
      "metadata": {
        "colab": {
          "base_uri": "https://localhost:8080/"
        },
        "id": "GDEd4JXVK83M",
        "outputId": "167df3d9-0e49-49cb-dc13-02b118b55bbe"
      },
      "source": [
        "age = input('나이를 입력하세요 >> ')\r\n",
        "print(age)"
      ],
      "execution_count": null,
      "outputs": [
        {
          "output_type": "stream",
          "text": [
            "나이를 입력하세요 >> 28\n",
            "28\n"
          ],
          "name": "stdout"
        }
      ]
    },
    {
      "cell_type": "code",
      "metadata": {
        "colab": {
          "base_uri": "https://localhost:8080/"
        },
        "id": "GNgTxubCLy-o",
        "outputId": "e6594f8e-1119-4a00-ccce-420a09ea3d08"
      },
      "source": [
        "company = input('소속을 입력하세요 >> ')\r\n",
        "print(company)"
      ],
      "execution_count": null,
      "outputs": [
        {
          "output_type": "stream",
          "text": [
            "소속을 입력하세요 >> mega\n",
            "mega\n"
          ],
          "name": "stdout"
        }
      ]
    },
    {
      "cell_type": "code",
      "metadata": {
        "id": "qbldHX5nNFZv"
      },
      "source": [
        "location = '신촌'"
      ],
      "execution_count": null,
      "outputs": []
    },
    {
      "cell_type": "code",
      "metadata": {
        "id": "VbZVqcMXSJfL"
      },
      "source": [
        "number = 2"
      ],
      "execution_count": null,
      "outputs": []
    },
    {
      "cell_type": "code",
      "metadata": {
        "id": "Bee3rPl1SMpL"
      },
      "source": [
        "height = 173"
      ],
      "execution_count": null,
      "outputs": []
    },
    {
      "cell_type": "code",
      "metadata": {
        "id": "u7sArETGS5J5"
      },
      "source": [
        "food_lunch = True"
      ],
      "execution_count": null,
      "outputs": []
    },
    {
      "cell_type": "code",
      "metadata": {
        "colab": {
          "base_uri": "https://localhost:8080/"
        },
        "id": "mHJjivDiS79x",
        "outputId": "75bbe2b5-5961-4c8f-972f-17b79a8d6c69"
      },
      "source": [
        "age2 = input('나이 입력>> ') #100 #컴퓨터에서 입력한 데이터는 타입을 무조건 스트링으로 인식\r\n",
        "#스트링을 정수로 바꾸어 쓰는(강제 캐스팅) 결정을 프로그래머가 한다.\r\n",
        "print('내년나이는',int(age2) + 1)"
      ],
      "execution_count": null,
      "outputs": [
        {
          "output_type": "stream",
          "text": [
            "나이 입력>> 100\n",
            "내년나이는 101\n"
          ],
          "name": "stdout"
        }
      ]
    },
    {
      "cell_type": "code",
      "metadata": {
        "colab": {
          "base_uri": "https://localhost:8080/"
        },
        "id": "t7pNJ82gUXkr",
        "outputId": "a90f7e03-8803-4965-f685-b22d5bf7f083"
      },
      "source": [
        "# 두 수를 입력을 받아서, 사칙연산을 해보세요.\r\n",
        "number_first = int(input('첫번째 숫자는 >> '))\r\n",
        "number_second = int(input('두번째 숫자는 >> '))\r\n",
        "print('두 수의 합은',number_first + number_second)\r\n",
        "print('두 수의 차는',number_first - number_second)\r\n",
        "print('두 수의 곱은',number_first * number_second)\r\n",
        "print('두 수의 나눗셈은',number_first / number_second)\r\n",
        "print('정수로 표현된 나눗셈은',number_first // number_second) #정수로 표현"
      ],
      "execution_count": null,
      "outputs": [
        {
          "output_type": "stream",
          "text": [
            "첫번째 숫자는 >> 100\n",
            "두번째 숫자는 >> 20\n",
            "두 수의 합은 120\n",
            "두 수의 차는 80\n",
            "두 수의 곱은 2000\n",
            "두 수의 나눗셈은 5.0\n",
            "정수로 표현된 나눗셈은 5\n"
          ],
          "name": "stdout"
        }
      ]
    },
    {
      "cell_type": "code",
      "metadata": {
        "colab": {
          "base_uri": "https://localhost:8080/"
        },
        "id": "kW6ur9lqXHhu",
        "outputId": "ae501fd5-b2cf-4de3-8c1a-00307fadcc9c"
      },
      "source": [
        "me = '커피'\r\n",
        "me2 = '우유'\r\n",
        "print(me+me2) #문자열로 결합시켜라(결합연산자)"
      ],
      "execution_count": null,
      "outputs": [
        {
          "output_type": "stream",
          "text": [
            "커피우유\n"
          ],
          "name": "stdout"
        }
      ]
    },
    {
      "cell_type": "code",
      "metadata": {
        "colab": {
          "base_uri": "https://localhost:8080/"
        },
        "id": "JOk8NyywY_gF",
        "outputId": "e0fe1d79-e176-481d-ca9a-0f4e8706a8d6"
      },
      "source": [
        "price = 1000\r\n",
        "print(me + '가격은' + str(price) + '원')"
      ],
      "execution_count": null,
      "outputs": [
        {
          "output_type": "stream",
          "text": [
            "커피가격은1000원\n"
          ],
          "name": "stdout"
        }
      ]
    },
    {
      "cell_type": "code",
      "metadata": {
        "colab": {
          "base_uri": "https://localhost:8080/"
        },
        "id": "3DCd2WRecR-4",
        "outputId": "3425b56c-1c7b-4f34-d0d9-0dd3b65ef07c"
      },
      "source": [
        "coffee_price = int(input('커피값 입력:'))\r\n",
        "coffee_count = int(input('커피 인원수:'))\r\n",
        "sum = coffee_price*coffee_count"
      ],
      "execution_count": null,
      "outputs": [
        {
          "output_type": "stream",
          "text": [
            "커피값 입력:5000\n",
            "커피 인원수:5\n"
          ],
          "name": "stdout"
        }
      ]
    },
    {
      "cell_type": "code",
      "metadata": {
        "colab": {
          "base_uri": "https://localhost:8080/"
        },
        "id": "AH4cHEUBhFQy",
        "outputId": "6ac4ae2f-f625-45a8-86a0-fb69ef8bb512"
      },
      "source": [
        "if sum>= 20000:\r\n",
        "  print('20000원 이상입니다.')\r\n",
        "  print(sum-2000,'원 결제하세요.')\r\n",
        "else:\r\n",
        "  print('20000원 미만입니다.')\r\n",
        "  print(sum,'원 결제하세요.')"
      ],
      "execution_count": null,
      "outputs": [
        {
          "output_type": "stream",
          "text": [
            "20000원 이상입니다.\n",
            "23000 원 결제하세요.\n"
          ],
          "name": "stdout"
        }
      ]
    },
    {
      "cell_type": "code",
      "metadata": {
        "colab": {
          "base_uri": "https://localhost:8080/"
        },
        "id": "rxxOdXBViv5S",
        "outputId": "7af97d7d-238c-445e-f93b-c0ed0c63ec34"
      },
      "source": [
        "\r\n",
        "n1=int(input('1년 만기 정기 예금을 얼마나 예치하시겠습니까?>>'))\r\n",
        "n2=n1//10\r\n",
        "sum=n1+n2\r\n",
        "print('원금이',n1,'원 이시군요!')\r\n",
        "print('이자는',n2,'원 입니다!')\r\n",
        "print('원리합계는',sum,'원 입니다.')"
      ],
      "execution_count": null,
      "outputs": [
        {
          "output_type": "stream",
          "text": [
            "1년 만기 정기 예금을 얼마나 예치하시겠습니까?>>20000\n",
            "원금이 20000 원 이시군요!\n",
            "이자는 2000 원 입니다!\n",
            "원리합계는 22000 원 입니다.\n"
          ],
          "name": "stdout"
        }
      ]
    },
    {
      "cell_type": "code",
      "metadata": {
        "colab": {
          "base_uri": "https://localhost:8080/"
        },
        "id": "rTeUA3W6kKM7",
        "outputId": "f2d72403-49ea-467d-ad0d-32d5c0bcaf24"
      },
      "source": [
        "s1=int(input('영어점수 입력:'))\r\n",
        "s2=int(input('수학점수 입력:'))\r\n",
        "s3=int(input('국어점수 입력:'))\r\n",
        "sum=s1+s2+s3\r\n",
        "average=(s1+s2+s3)//3\r\n",
        "print('--------------------------')\r\n",
        "print('세 과목의 합은',sum)\r\n",
        "print('세 과목의 평균은',average)"
      ],
      "execution_count": null,
      "outputs": [
        {
          "output_type": "stream",
          "text": [
            "영어점수 입력:85\n",
            "수학점수 입력:90\n",
            "국어점수 입력:95\n",
            "--------------------------\n",
            "세 과목의 합은 270\n",
            "세 과목의 평균은 90\n"
          ],
          "name": "stdout"
        }
      ]
    },
    {
      "cell_type": "code",
      "metadata": {
        "colab": {
          "base_uri": "https://localhost:8080/"
        },
        "id": "yooWgp_FkrY0",
        "outputId": "06e96b3e-1338-4c7a-8c31-ab6b3c457be8"
      },
      "source": [
        "t1=int(input('지금은 몇 시 입니까?'))\r\n",
        "if t1<12:\r\n",
        "  print('점심 전입니다. 맛있게 드세요!')\r\n",
        "else:\r\n",
        "  print('점심 후입니다.')"
      ],
      "execution_count": null,
      "outputs": [
        {
          "output_type": "stream",
          "text": [
            "지금은 몇 시 입니까?17\n",
            "점심 후입니다.\n"
          ],
          "name": "stdout"
        }
      ]
    },
    {
      "cell_type": "code",
      "metadata": {
        "colab": {
          "base_uri": "https://localhost:8080/"
        },
        "id": "efNyhnkPrw2o",
        "outputId": "b99c6556-0f2a-46f7-b860-c0806f89ea18"
      },
      "source": [
        "print('원래 가입한 아이디는 root임')\r\n",
        "id=input('로그인할 id를 입력>>')\r\n",
        "if id=='root':\r\n",
        "  print('로그인 되었습니다.')\r\n",
        "else: print('로그인되지 않았습니다.')\r\n"
      ],
      "execution_count": null,
      "outputs": [
        {
          "output_type": "stream",
          "text": [
            "원래 가입한 아이디는 root임\n",
            "로그인할 id를 입력>>root\n",
            "로그인 되었습니다.\n"
          ],
          "name": "stdout"
        }
      ]
    },
    {
      "cell_type": "code",
      "metadata": {
        "colab": {
          "base_uri": "https://localhost:8080/"
        },
        "id": "T7uiAjxzsnYP",
        "outputId": "261967d9-f897-4ebe-da3d-2d4d75455c3e"
      },
      "source": [
        "n1=1000\r\n",
        "m1=3*n1\r\n",
        "n2=2500\r\n",
        "m2=4*n2\r\n",
        "sum=(m1+m2)*0.9\r\n",
        "print('내가 낸 금액은 얼마일까요?')\r\n",
        "print(int(sum),'원 입니다')\r\n"
      ],
      "execution_count": null,
      "outputs": [
        {
          "output_type": "stream",
          "text": [
            "내가 낸 금액은 얼마일까요?\n",
            "11700 원 입니다\n"
          ],
          "name": "stdout"
        }
      ]
    },
    {
      "cell_type": "code",
      "metadata": {
        "id": "L9BuM4Mqw32K"
      },
      "source": [
        ""
      ],
      "execution_count": null,
      "outputs": []
    }
  ]
}