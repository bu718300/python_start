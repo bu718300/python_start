{
  "nbformat": 4,
  "nbformat_minor": 0,
  "metadata": {
    "colab": {
      "name": "0127 오전.ipynb",
      "provenance": [],
      "collapsed_sections": [],
      "authorship_tag": "ABX9TyNYKFltgWv2tyZ1OcdZZ9UF",
      "include_colab_link": true
    },
    "kernelspec": {
      "name": "python3",
      "display_name": "Python 3"
    }
  },
  "cells": [
    {
      "cell_type": "markdown",
      "metadata": {
        "id": "view-in-github",
        "colab_type": "text"
      },
      "source": [
        "<a href=\"https://colab.research.google.com/github/bu718300/python_start/blob/main/0127.ipynb\" target=\"_parent\"><img src=\"https://colab.research.google.com/assets/colab-badge.svg\" alt=\"Open In Colab\"/></a>"
      ]
    },
    {
      "cell_type": "code",
      "metadata": {
        "colab": {
          "base_uri": "https://localhost:8080/"
        },
        "id": "4ZJsIB-QVkPO",
        "outputId": "b1347dfd-8ff0-4fca-8158-ce6fcb85e10a"
      },
      "source": [
        "#1번\r\n",
        "x = input('아이디를 입력하세요. >> ')\r\n",
        "y = input('이름을 입력하세요. >> ')\r\n",
        "print('아이디가',x,'인',y,'님이 로그인되었습니다.')"
      ],
      "execution_count": null,
      "outputs": [
        {
          "output_type": "stream",
          "text": [
            "아이디를 입력하세요. >> root\n",
            "이름을 입력하세요. >> 홍길동\n",
            "아이디가 root 인 홍길동 님이 로그인되었습니다.\n"
          ],
          "name": "stdout"
        }
      ]
    },
    {
      "cell_type": "code",
      "metadata": {
        "colab": {
          "base_uri": "https://localhost:8080/"
        },
        "id": "ZHBrPPX-WQ8F",
        "outputId": "4fbb9ecb-b3fd-4159-b492-f19876ec1784"
      },
      "source": [
        "#2번\r\n",
        "x = 35\r\n",
        "y = 7\r\n",
        "print('두 수의 합은', x+y)\r\n",
        "print('두 수의 차는', x-y)\r\n",
        "print('두 수의 곱은', x*y)\r\n",
        "print('두 수의 나눗셈은', x/y)\r\n",
        "print('나누고나서의 나머지는', x%y)"
      ],
      "execution_count": null,
      "outputs": [
        {
          "output_type": "stream",
          "text": [
            "두 수의 합은 42\n",
            "두 수의 차는 28\n",
            "두 수의 곱은 245\n",
            "두 수의 나눗셈은 5.0\n",
            "나누고나서의 나머지는 0\n"
          ],
          "name": "stdout"
        }
      ]
    },
    {
      "cell_type": "code",
      "metadata": {
        "colab": {
          "base_uri": "https://localhost:8080/"
        },
        "id": "KJ-j_LJ1Wwa3",
        "outputId": "fec9f949-b8c2-47f1-e8ab-cdb220a4640c"
      },
      "source": [
        "#3번\r\n",
        "x = int(input('현재 나이를 입력하세요. >> '))\r\n",
        "print('홍길동님의 10년 후의 나이는',x+10,'세입니다.')"
      ],
      "execution_count": null,
      "outputs": [
        {
          "output_type": "stream",
          "text": [
            "현재 나이를 입력하세요. >> 20\n",
            "홍길동님의 10년 후의 나이는 30 세입니다.\n"
          ],
          "name": "stdout"
        }
      ]
    },
    {
      "cell_type": "code",
      "metadata": {
        "colab": {
          "base_uri": "https://localhost:8080/"
        },
        "id": "9KZNMptvX5G9",
        "outputId": "9cf9fda7-b5ee-4798-9b0b-7f9f4ec412c2"
      },
      "source": [
        "#4번\r\n",
        "x = int(input('엄마 용돈주세요. >> '))\r\n",
        "if x>10000:\r\n",
        "  print('엄마 용돈이 많아요.')\r\n",
        "elif x==10000:\r\n",
        "  print('딱 적당해요!')\r\n",
        "else: print('엄마 용돈이 적어요.')"
      ],
      "execution_count": null,
      "outputs": [
        {
          "output_type": "stream",
          "text": [
            "엄마 용돈주세요. >> 10000\n",
            "딱 적당해요!\n"
          ],
          "name": "stdout"
        }
      ]
    },
    {
      "cell_type": "code",
      "metadata": {
        "colab": {
          "base_uri": "https://localhost:8080/"
        },
        "id": "0Z2cFhepYz4l",
        "outputId": "5e86ba60-857f-4ac0-9e5b-c1cc7886b9d7"
      },
      "source": [
        "#5번\r\n",
        "x = int(input('숫자를 입력하세요. >> '))\r\n",
        "if x%2==1: \r\n",
        "  print('홀수입니다.')\r\n",
        "else: print('짝수입니다.')"
      ],
      "execution_count": null,
      "outputs": [
        {
          "output_type": "stream",
          "text": [
            "숫자를 입력하세요. >> 156489161564\n",
            "짝수입니다.\n"
          ],
          "name": "stdout"
        }
      ]
    },
    {
      "cell_type": "code",
      "metadata": {
        "colab": {
          "base_uri": "https://localhost:8080/"
        },
        "id": "1aiWHle7Zp1L",
        "outputId": "d368b86a-4a5a-4905-e45a-3223a56ab9b1"
      },
      "source": [
        "#6번\r\n",
        "x = int(input('실적을 입력하세요. >> '))\r\n",
        "if x>=1000:\r\n",
        "  print('축하합니다. 실적을 달성하였습니다.')\r\n",
        "  print('당신의 이번달 보너스는',int(x*0.2),'만원 입니다.')\r\n",
        "else: print('실적을 달성하지 못하였습니다.')"
      ],
      "execution_count": null,
      "outputs": [
        {
          "output_type": "stream",
          "text": [
            "실적을 입력하세요. >> 2500\n",
            "축하합니다. 실적을 달성하였습니다.\n",
            "당신의 이번달 보너스는 500 만원 입니다.\n"
          ],
          "name": "stdout"
        }
      ]
    },
    {
      "cell_type": "code",
      "metadata": {
        "colab": {
          "base_uri": "https://localhost:8080/"
        },
        "id": "FK29Dr1GbJFM",
        "outputId": "4fae1994-206c-43f4-de69-a9b0c588578d"
      },
      "source": [
        "#7번\r\n",
        "x = input('미사일 이름은? >> ')\r\n",
        "y = float(input('미사일 시작값은? >> '))\r\n",
        "z = float(input('미사일이 움직이는 값은? >> '))\r\n",
        "print(x,'미사일이',y+z,'로 이동되었습니다.')\r\n"
      ],
      "execution_count": null,
      "outputs": [
        {
          "output_type": "stream",
          "text": [
            "미사일 이름은? >> 슛\n",
            "미사일 시작값은? >> 200\n",
            "미사일이 움직이는 값은? >> -10.5\n",
            "슛 미사일이 189.5 로 이동되었습니다.\n"
          ],
          "name": "stdout"
        }
      ]
    },
    {
      "cell_type": "code",
      "metadata": {
        "colab": {
          "base_uri": "https://localhost:8080/"
        },
        "id": "0zk45i1Odz12",
        "outputId": "9b631ed0-73ae-46d8-f35b-5369986dbb28"
      },
      "source": [
        "#8번\r\n",
        "x = 10000\r\n",
        "y = 7500\r\n",
        "z = y*0.1\r\n",
        "print('부가세는',z,'원 이며, 잔돈은',x-y,'원 입니다.')"
      ],
      "execution_count": null,
      "outputs": [
        {
          "output_type": "stream",
          "text": [
            "부가세는 750.0 원 이며, 잔돈은 2500 원 입니다.\n"
          ],
          "name": "stdout"
        }
      ]
    },
    {
      "cell_type": "code",
      "metadata": {
        "colab": {
          "base_uri": "https://localhost:8080/"
        },
        "id": "HTWwbXN8gcLk",
        "outputId": "6065841c-2169-4f29-bfad-c48da538a0f2"
      },
      "source": [
        "#9번 #코드는 맞는데 1000개는 너무 길어서 10개만 보이게했어요!\r\n",
        "x = '☆'\r\n",
        "for i in range(0,10):\r\n",
        "  print(x,end='')"
      ],
      "execution_count": null,
      "outputs": [
        {
          "output_type": "stream",
          "text": [
            "☆☆☆☆☆☆☆☆☆☆"
          ],
          "name": "stdout"
        }
      ]
    },
    {
      "cell_type": "code",
      "metadata": {
        "colab": {
          "base_uri": "https://localhost:8080/"
        },
        "id": "tMunik2th0tm",
        "outputId": "330da460-43f3-4381-8d8b-f178d6347d05"
      },
      "source": [
        "#10번\r\n",
        "for x in range(1,21):\r\n",
        "  print(x)\r\n",
        "for x in range(1,21):\r\n",
        "  print(x,end=' ')\r\n",
        "\r\n"
      ],
      "execution_count": null,
      "outputs": [
        {
          "output_type": "stream",
          "text": [
            "1\n",
            "2\n",
            "3\n",
            "4\n",
            "5\n",
            "6\n",
            "7\n",
            "8\n",
            "9\n",
            "10\n",
            "11\n",
            "12\n",
            "13\n",
            "14\n",
            "15\n",
            "16\n",
            "17\n",
            "18\n",
            "19\n",
            "20\n",
            "1 2 3 4 5 6 7 8 9 10 11 12 13 14 15 16 17 18 19 20 "
          ],
          "name": "stdout"
        }
      ]
    },
    {
      "cell_type": "code",
      "metadata": {
        "colab": {
          "base_uri": "https://localhost:8080/"
        },
        "id": "brd-cH3Bkm6S",
        "outputId": "9abd892d-9613-4dbb-ce56-8716282a4eb1"
      },
      "source": [
        "#11번\r\n",
        "for x in range(1,51,1):\r\n",
        "  if x%2==0:\r\n",
        "    print(x, end=' ')\r\n",
        "    \r\n"
      ],
      "execution_count": null,
      "outputs": [
        {
          "output_type": "stream",
          "text": [
            "2 4 6 8 10 12 14 16 18 20 22 24 26 28 30 32 34 36 38 40 42 44 46 48 50 "
          ],
          "name": "stdout"
        }
      ]
    },
    {
      "cell_type": "code",
      "metadata": {
        "colab": {
          "base_uri": "https://localhost:8080/"
        },
        "id": "DaAyeZjlliO8",
        "outputId": "441a029b-7b47-439f-f591-351c8483734e"
      },
      "source": [
        "#12번\r\n",
        "count = 0\r\n",
        "for x in range(1,1001,1):\r\n",
        "  if x % 3 == 0:\r\n",
        "    count = count + 1     #3으로 나눈 나머지가 0일때마다 count가 1씩 증가\r\n",
        "\r\n",
        "print(count)\r\n"
      ],
      "execution_count": null,
      "outputs": [
        {
          "output_type": "stream",
          "text": [
            "333\n"
          ],
          "name": "stdout"
        }
      ]
    },
    {
      "cell_type": "code",
      "metadata": {
        "colab": {
          "base_uri": "https://localhost:8080/"
        },
        "id": "4uxWC0EwodFv",
        "outputId": "b9fe46ad-374d-42b3-b023-c89fb6e100d1"
      },
      "source": [
        "#13번 #무한루프\r\n",
        "food_list = ['']\r\n",
        "while True:\r\n",
        "  data = input('먹고 싶은 음식 입력(종료:x) >> ')\r\n",
        "  if data == 'x':\r\n",
        "    print('입력을 종료합니다.')\r\n",
        "    break\r\n",
        "  else: food_list.append(data)\r\n"
      ],
      "execution_count": null,
      "outputs": [
        {
          "output_type": "stream",
          "text": [
            "먹고 싶은 음식 입력(종료:x) >> 돈까스\n",
            "먹고 싶은 음식 입력(종료:x) >> 김치찌개\n",
            "먹고 싶은 음식 입력(종료:x) >> 짜장면\n",
            "먹고 싶은 음식 입력(종료:x) >> 햄버거\n",
            "먹고 싶은 음식 입력(종료:x) >> x\n",
            "입력을 종료합니다.\n"
          ],
          "name": "stdout"
        }
      ]
    },
    {
      "cell_type": "code",
      "metadata": {
        "colab": {
          "base_uri": "https://localhost:8080/"
        },
        "id": "T-jA1F-bpZvN",
        "outputId": "d838d9a0-af83-4a09-e205-631a0c6e284d"
      },
      "source": [
        "#14번\r\n",
        "food_list = ['돈까스','김치찌개','짜장면','햄버거','삼겹살']\r\n",
        "for x in range(0,5):\r\n",
        "  print(food_list[x], end=' ')\r\n",
        "print()\r\n",
        "print(food_list[0],food_list[4])\r\n",
        "print(food_list[3])\r\n",
        "print(food_list[2:])"
      ],
      "execution_count": null,
      "outputs": [
        {
          "output_type": "stream",
          "text": [
            "돈까스 김치찌개 짜장면 햄버거 삼겹살 \n",
            "돈까스 삼겹살\n",
            "햄버거\n",
            "['짜장면', '햄버거', '삼겹살']\n"
          ],
          "name": "stdout"
        }
      ]
    },
    {
      "cell_type": "code",
      "metadata": {
        "colab": {
          "base_uri": "https://localhost:8080/"
        },
        "id": "DBZs2h69peg7",
        "outputId": "73af45da-c780-434b-efe6-3842abd7b309"
      },
      "source": [
        "#15번\r\n",
        "list = []\r\n",
        "list.append('네이버')\r\n",
        "print(list)\r\n",
        "list.append('카카오')\r\n",
        "print(list)\r\n",
        "list.append('구글')\r\n",
        "print(list)\r\n",
        "list.append('링크드인')\r\n",
        "print(list)"
      ],
      "execution_count": null,
      "outputs": [
        {
          "output_type": "stream",
          "text": [
            "['네이버']\n",
            "['네이버', '카카오']\n",
            "['네이버', '카카오', '구글']\n",
            "['네이버', '카카오', '구글', '링크드인']\n"
          ],
          "name": "stdout"
        }
      ]
    },
    {
      "cell_type": "code",
      "metadata": {
        "colab": {
          "base_uri": "https://localhost:8080/"
        },
        "id": "Qc46tx-4pg21",
        "outputId": "325372b5-0445-4e21-ebb2-0b7404e29afa"
      },
      "source": [
        "#16번\r\n",
        "score = []\r\n",
        "score.append(100)\r\n",
        "score.append(88)\r\n",
        "score.append(99)\r\n",
        "sum = 0\r\n",
        "for x in score:\r\n",
        "  sum = sum + x\r\n",
        "print('총 평균은',sum/len(score),'점 입니다')\r\n"
      ],
      "execution_count": null,
      "outputs": [
        {
          "output_type": "stream",
          "text": [
            "총 평균은 95.66666666666667 점 입니다\n"
          ],
          "name": "stdout"
        }
      ]
    },
    {
      "cell_type": "code",
      "metadata": {
        "colab": {
          "base_uri": "https://localhost:8080/"
        },
        "id": "iIb0cGSK4w4O",
        "outputId": "36f93fc3-ab89-4e04-dc1a-b699e5f5ebef"
      },
      "source": [
        "#17번\r\n",
        "count = 0\r\n",
        "while True:\r\n",
        "  data = int(input('정답은? >> '))\r\n",
        "  count = count+1\r\n",
        "  if data == 77:\r\n",
        "    print('정답입니다.')\r\n",
        "    break\r\n",
        "  elif data > 77:\r\n",
        "    print('그것보다 작습니다.')\r\n",
        "  elif data < 77:\r\n",
        "    print('그것보다 큽니다.')\r\n",
        "print('당신의 총 시도 횟수는',count,'회 입니다.')\r\n"
      ],
      "execution_count": null,
      "outputs": [
        {
          "output_type": "stream",
          "text": [
            "정답은? >> 100\n",
            "그것보다 작습니다.\n",
            "정답은? >> 50\n",
            "그것보다 큽니다.\n",
            "정답은? >> 80\n",
            "그것보다 작습니다.\n",
            "정답은? >> 77\n",
            "정답입니다.\n",
            "당신의 총 시도 횟수는 4 회 입니다.\n"
          ],
          "name": "stdout"
        }
      ]
    },
    {
      "cell_type": "code",
      "metadata": {
        "id": "aiCERMqHJefR"
      },
      "source": [
        ""
      ],
      "execution_count": null,
      "outputs": []
    },
    {
      "cell_type": "code",
      "metadata": {
        "colab": {
          "base_uri": "https://localhost:8080/"
        },
        "id": "LSI53u6g5dV_",
        "outputId": "704b6d02-a65b-4005-9c61-7fd3616f2519"
      },
      "source": [
        "#18번\r\n",
        "x = int(input('입금액: '))\r\n",
        "y = float(input('이자율: '))\r\n",
        "print('--------------------------')\r\n",
        "print('1년 후 받게 될 금액은:',int(x+x*y),'원')"
      ],
      "execution_count": null,
      "outputs": [
        {
          "output_type": "stream",
          "text": [
            "입금액: 10000\n",
            "이자율: 0.2\n",
            "--------------------------\n",
            "1년 후 받게 될 금액은: 12000 원\n"
          ],
          "name": "stdout"
        }
      ]
    },
    {
      "cell_type": "code",
      "metadata": {
        "colab": {
          "base_uri": "https://localhost:8080/"
        },
        "id": "iFbSYGc15d2O",
        "outputId": "38fab94c-ff10-45a1-8b2c-d721996dbc26"
      },
      "source": [
        "#20번\r\n",
        "list2 = []\r\n",
        "list2.append('여의도')\r\n",
        "list2.append('신촌')\r\n",
        "list2.append('강남')\r\n",
        "list2.append('속초')\r\n",
        "list2.append('제주도')\r\n",
        "print(list2) #1)\r\n",
        "del list2[2]\r\n",
        "print(list2) #2)\r\n",
        "list2[3] = '제주시'\r\n",
        "print(list2) #3)\r\n",
        "for index in range(len(list2)):\r\n",
        "  print(index +1, list2[index]) #4\r\n"
      ],
      "execution_count": 194,
      "outputs": [
        {
          "output_type": "stream",
          "text": [
            "['여의도', '신촌', '강남', '속초', '제주도']\n",
            "['여의도', '신촌', '속초', '제주도']\n",
            "['여의도', '신촌', '속초', '제주시']\n",
            "1 여의도\n",
            "2 신촌\n",
            "3 속초\n",
            "4 제주시\n"
          ],
          "name": "stdout"
        }
      ]
    },
    {
      "cell_type": "code",
      "metadata": {
        "id": "rmn5fURm7jKE",
        "colab": {
          "base_uri": "https://localhost:8080/"
        },
        "outputId": "fe461685-28e0-476c-eae1-c7c393571d2d"
      },
      "source": [
        "#19번\r\n",
        "me = {}\r\n",
        "me['나이'] = '28세'\r\n",
        "me['키'] = '173cm'\r\n",
        "me['몸무게'] = '00kg'\r\n",
        "me[\"성별\"] = '남자'\r\n",
        "me[\"지역\"] = '신촌'\r\n",
        "print(me)\r\n",
        "print(me['나이'])\r\n",
        "print(me['지역'])"
      ],
      "execution_count": 213,
      "outputs": [
        {
          "output_type": "stream",
          "text": [
            "{'나이': '28세', '키': '173cm', '몸무게': '00kg', '성별': '남자', '지역': '신촌'}\n",
            "28세\n",
            "신촌\n"
          ],
          "name": "stdout"
        }
      ]
    },
    {
      "cell_type": "code",
      "metadata": {
        "colab": {
          "base_uri": "https://localhost:8080/"
        },
        "id": "A0RYN7PKY4R8",
        "outputId": "2070a691-f4d6-41ee-b385-53f0151eaac6"
      },
      "source": [
        "#추가문제\r\n",
        "c1 = [22,99,11,23]\r\n",
        "c2 = [44,99,24,55]\r\n",
        "c3 = c1 + c2\r\n",
        "print(c3)\r\n",
        "for x in range(len(c1)):\r\n",
        "  if c1[x] == c2[x]:\r\n",
        "    print(c1[x])"
      ],
      "execution_count": 242,
      "outputs": [
        {
          "output_type": "stream",
          "text": [
            "[22, 99, 11, 23, 44, 99, 24, 55]\n",
            "99\n"
          ],
          "name": "stdout"
        }
      ]
    },
    {
      "cell_type": "code",
      "metadata": {
        "colab": {
          "base_uri": "https://localhost:8080/"
        },
        "id": "LK-kst-VuFbi",
        "outputId": "b6656693-6376-438d-f123-6a75cf7b4b97"
      },
      "source": [
        "#조 답안 12번 코드\r\n",
        "c1 = [22,99,11,23]\r\n",
        "c2 = [44,99,66,23]\r\n",
        "count=0\r\n",
        "for x in range(len(c1)):\r\n",
        "  if c1[x] == c2[x]:\r\n",
        "    count=count+1\r\n",
        "    print(c1[x])\r\n",
        "print(count)\r\n"
      ],
      "execution_count": 245,
      "outputs": [
        {
          "output_type": "stream",
          "text": [
            "99\n",
            "23\n",
            "2\n"
          ],
          "name": "stdout"
        }
      ]
    },
    {
      "cell_type": "code",
      "metadata": {
        "id": "putALgL2KcNo"
      },
      "source": [
        ""
      ],
      "execution_count": null,
      "outputs": []
    }
  ]
}