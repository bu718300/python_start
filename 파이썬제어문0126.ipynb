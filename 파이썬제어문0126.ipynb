{
  "nbformat": 4,
  "nbformat_minor": 0,
  "metadata": {
    "colab": {
      "name": "파이썬제어문0126.ipynb",
      "provenance": [],
      "collapsed_sections": [],
      "authorship_tag": "ABX9TyPZlHkT7i9YDdM7tz4ExNRP"
    },
    "kernelspec": {
      "name": "python3",
      "display_name": "Python 3"
    }
  },
  "cells": [
    {
      "cell_type": "code",
      "metadata": {
        "colab": {
          "base_uri": "https://localhost:8080/"
        },
        "id": "zKIci1HrWjkG",
        "outputId": "09c5ed76-a872-45be-97af-61b379aae728"
      },
      "source": [
        "food = input('먹고싶은 음식은?>>')\r\n",
        "print('당신이 입력한 먹고싶은 음식은',food)"
      ],
      "execution_count": null,
      "outputs": [
        {
          "output_type": "stream",
          "text": [
            "먹고싶은 음식은?>>짜장면\n",
            "당신이 입력한 먹고싶은 음식은 짜장면\n"
          ],
          "name": "stdout"
        }
      ]
    },
    {
      "cell_type": "code",
      "metadata": {
        "colab": {
          "base_uri": "https://localhost:8080/"
        },
        "id": "6JoNtUjCb1yl",
        "outputId": "a41e5fcb-c9f6-47f8-b78a-b3f7c7274f54"
      },
      "source": [
        "if food == '우동':\r\n",
        "  print('우산을 들고간다.')\r\n",
        "  print('돈 들고 간다.')\r\n",
        "  print('우동집으로 간다.')\r\n",
        "elif food == '짜장면':\r\n",
        "   print('중국집으로 간다.')\r\n",
        "elif food == '라면':\r\n",
        "  print('분식집으로 간다.')\r\n",
        "else: print('집에서 먹는다.')  "
      ],
      "execution_count": null,
      "outputs": [
        {
          "output_type": "stream",
          "text": [
            "중국집으로 간다.\n"
          ],
          "name": "stdout"
        }
      ]
    },
    {
      "cell_type": "code",
      "metadata": {
        "colab": {
          "base_uri": "https://localhost:8080/"
        },
        "id": "H6l1lH8zdbcU",
        "outputId": "98e4e53d-0417-4b01-e36a-08c2c4906a73"
      },
      "source": [
        "start = 0\r\n",
        "while start < 10:\r\n",
        "  print(start, '>내가 반복')\r\n",
        "  start = start + 1"
      ],
      "execution_count": null,
      "outputs": [
        {
          "output_type": "stream",
          "text": [
            "0 >내가 반복\n",
            "1 >내가 반복\n",
            "2 >내가 반복\n",
            "3 >내가 반복\n",
            "4 >내가 반복\n",
            "5 >내가 반복\n",
            "6 >내가 반복\n",
            "7 >내가 반복\n",
            "8 >내가 반복\n",
            "9 >내가 반복\n"
          ],
          "name": "stdout"
        }
      ]
    },
    {
      "cell_type": "code",
      "metadata": {
        "colab": {
          "base_uri": "https://localhost:8080/"
        },
        "id": "mawv_OPDd686",
        "outputId": "53a8d4ad-10bd-4a8c-9912-ce571e3bd462"
      },
      "source": [
        "for x in range(10): #0~9, 기본값이 1씩 증가!\r\n",
        "  print(x,'>나도 반복')"
      ],
      "execution_count": null,
      "outputs": [
        {
          "output_type": "stream",
          "text": [
            "0 >나도 반복\n",
            "1 >나도 반복\n",
            "2 >나도 반복\n",
            "3 >나도 반복\n",
            "4 >나도 반복\n",
            "5 >나도 반복\n",
            "6 >나도 반복\n",
            "7 >나도 반복\n",
            "8 >나도 반복\n",
            "9 >나도 반복\n"
          ],
          "name": "stdout"
        }
      ]
    },
    {
      "cell_type": "code",
      "metadata": {
        "colab": {
          "base_uri": "https://localhost:8080/"
        },
        "id": "uWWcNEMdjYbM",
        "outputId": "a8a2049d-d00c-4825-f0fb-54ff1e026753"
      },
      "source": [
        "time = int(input('현재시각을 입력하세요'))\r\n",
        "if 6<=time<11: #새벽 1시~5시가 굿모닝으로 되는 현상으로 인해 6시부터로 수정했습니다.\r\n",
        "  print('굿모닝')\r\n",
        "elif 11<=time<15:\r\n",
        "  print('굿애프터눈')\r\n",
        "elif 15<=time<20:\r\n",
        "  print('굿이브닝')\r\n",
        "else: print('굿나잇')"
      ],
      "execution_count": null,
      "outputs": [
        {
          "output_type": "stream",
          "text": [
            "현재시각을 입력하세요1\n",
            "굿나잇\n"
          ],
          "name": "stdout"
        }
      ]
    },
    {
      "cell_type": "code",
      "metadata": {
        "colab": {
          "base_uri": "https://localhost:8080/"
        },
        "id": "ZTjVdv1pl9RV",
        "outputId": "4baa24eb-21a0-43f2-cdb4-e6dd09099549"
      },
      "source": [
        "month = 1 #막혀서 다른 분 코드 참고 했습니다 ㅠㅠ\r\n",
        "print('이번달은', month,'월입니다')\r\n",
        "for i in range(1,13):\r\n",
        "  if(3<=i<=5):\r\n",
        "    print(i,'월은 봄입니다.')\r\n",
        "  elif(6<=i<=8):\r\n",
        "    print(i,'월은 여름입니다.')\r\n",
        "  elif(9<=i<=11):\r\n",
        "    print(i,'월은 가을입니다.')\r\n",
        "  else: print(i,'월은 겨울입니다.')"
      ],
      "execution_count": null,
      "outputs": [
        {
          "output_type": "stream",
          "text": [
            "이번달은 1 월입니다\n",
            "1 월은 겨울입니다.\n",
            "2 월은 겨울입니다.\n",
            "3 월은 봄입니다.\n",
            "4 월은 봄입니다.\n",
            "5 월은 봄입니다.\n",
            "6 월은 여름입니다.\n",
            "7 월은 여름입니다.\n",
            "8 월은 여름입니다.\n",
            "9 월은 가을입니다.\n",
            "10 월은 가을입니다.\n",
            "11 월은 가을입니다.\n",
            "12 월은 겨울입니다.\n"
          ],
          "name": "stdout"
        }
      ]
    },
    {
      "cell_type": "code",
      "metadata": {
        "id": "ODHLOv4boOct"
      },
      "source": [
        ""
      ],
      "execution_count": null,
      "outputs": []
    }
  ]
}